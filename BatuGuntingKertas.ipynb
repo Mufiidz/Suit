{
  "nbformat": 4,
  "nbformat_minor": 0,
  "metadata": {
    "colab": {
      "name": "Submission.ipynb",
      "provenance": []
    },
    "kernelspec": {
      "name": "python3",
      "display_name": "Python 3"
    }
  },
  "cells": [
    {
      "cell_type": "markdown",
      "metadata": {
        "id": "BD1FjULFpS_m",
        "colab_type": "text"
      },
      "source": [
        "# Paper Rock Scissors Recognition"
      ]
    },
    {
      "cell_type": "markdown",
      "metadata": {
        "id": "WEjaQOcAprWI",
        "colab_type": "text"
      },
      "source": [
        "### Import Package"
      ]
    },
    {
      "cell_type": "code",
      "metadata": {
        "id": "B5dvbhVVk6jR",
        "colab_type": "code",
        "colab": {}
      },
      "source": [
        "import zipfile,os\n",
        "import time\n",
        "import tensorflow as tf\n",
        "import pandas as pd\n",
        "import numpy as np\n",
        "import matplotlib.pyplot as plt\n",
        "import matplotlib.image as mpimg\n",
        "from tensorflow.keras.optimizers import Adam\n",
        "from tensorflow.keras.preprocessing.image import ImageDataGenerator\n",
        "from keras.models import Sequential\n",
        "from keras.layers import Dense, Flatten, Dropout\n",
        "from keras.layers.convolutional import Conv2D, MaxPooling2D\n",
        "from google.colab import files\n",
        "from keras.preprocessing import image\n",
        "%matplotlib inline\n",
        "\n",
        "print(\"Tensorflow version:\",tf.__version__)"
      ],
      "execution_count": 0,
      "outputs": []
    },
    {
      "cell_type": "markdown",
      "metadata": {
        "id": "ZIcDv_pypxux",
        "colab_type": "text"
      },
      "source": [
        "### Load Dataset"
      ]
    },
    {
      "cell_type": "code",
      "metadata": {
        "id": "tkrQ8DXEoHl_",
        "colab_type": "code",
        "colab": {}
      },
      "source": [
        "!wget --no-check-certificate \\\n",
        "  https://dicodingacademy.blob.core.windows.net/picodiploma/ml_pemula_academy/rockpaperscissors.zip \\\n",
        "  -O /tmp/rock_paper_scissors.zip\n",
        "\n",
        "local_zip = '/tmp/rock_paper_scissors.zip'\n",
        "zip_ref = zipfile.ZipFile(local_zip,'r')\n",
        "zip_ref.extractall('/tmp')\n",
        "zip_ref.close"
      ],
      "execution_count": 0,
      "outputs": []
    },
    {
      "cell_type": "markdown",
      "metadata": {
        "id": "96RhZVv6TNb3",
        "colab_type": "text"
      },
      "source": [
        "### Image Augmentation"
      ]
    },
    {
      "cell_type": "code",
      "metadata": {
        "id": "xNzkuDq-TQ1L",
        "colab_type": "code",
        "colab": {}
      },
      "source": [
        "startTime = time.time()\n",
        "train_img = ImageDataGenerator(\n",
        "    rescale = 1./255,\n",
        "    horizontal_flip = True,\n",
        "    vertical_flip = True,\n",
        "    shear_range = 0.2,\n",
        "    fill_mode = 'nearest',\n",
        "    validation_split = 0.2\n",
        ")\n",
        "\n",
        "validation_img = ImageDataGenerator(\n",
        "    rescale = 1./255,\n",
        "    horizontal_flip = True,\n",
        "    vertical_flip = True,\n",
        "    shear_range = 0.2,\n",
        "    fill_mode = 'nearest',\n",
        "    validation_split = 0.2\n",
        ")"
      ],
      "execution_count": 0,
      "outputs": []
    },
    {
      "cell_type": "code",
      "metadata": {
        "id": "E54P-W5JUg54",
        "colab_type": "code",
        "colab": {}
      },
      "source": [
        "base_dir='/tmp/rockpaperscissors/rps-cv-images/'\n",
        "\n",
        "train_gen = train_img.flow_from_directory(\n",
        "    base_dir,\n",
        "    target_size = (150,150),\n",
        "    batch_size = 32,\n",
        "    class_mode = 'categorical',\n",
        "    subset = 'training'\n",
        ")\n",
        "\n",
        "validation_gen = validation_img.flow_from_directory(\n",
        "    base_dir,\n",
        "    target_size = (150,150),\n",
        "    batch_size = 32,\n",
        "    class_mode = 'categorical',\n",
        "    subset = 'validation'\n",
        ")"
      ],
      "execution_count": 0,
      "outputs": []
    },
    {
      "cell_type": "code",
      "metadata": {
        "id": "NKsY3C-6XjX3",
        "colab_type": "code",
        "colab": {}
      },
      "source": [
        "model = Sequential([\n",
        "    # This is the first convolution\n",
        "    Conv2D(32, (3,3), activation='relu', input_shape=(150, 150, 3)),\n",
        "    MaxPooling2D(2, 2),\n",
        "    # This is the second convolution\n",
        "    Conv2D(64, (3,3), activation='relu'),\n",
        "    MaxPooling2D(2,2),\n",
        "    # This is the third convolution\n",
        "    Conv2D(128, (3,3), activation='relu'),\n",
        "    MaxPooling2D(2,2),\n",
        "    # This is the fourth convolution\n",
        "    Conv2D(128, (3,3), activation='relu'),\n",
        "    MaxPooling2D(2,2),\n",
        "    Flatten(),\n",
        "    Dropout(0.5),\n",
        "    Dense(512, activation='relu'),\n",
        "    Dense(3, activation='softmax')\n",
        "])"
      ],
      "execution_count": 0,
      "outputs": []
    },
    {
      "cell_type": "code",
      "metadata": {
        "id": "If8WDXJuXlv-",
        "colab_type": "code",
        "colab": {}
      },
      "source": [
        "model.compile(\n",
        "    loss='categorical_crossentropy',\n",
        "    optimizer= 'Adam',\n",
        "    metrics=['accuracy']\n",
        ")\n",
        "\n",
        "model.fit(\n",
        "    train_gen,\n",
        "    steps_per_epoch  = 50, \n",
        "    validation_data  = validation_gen,\n",
        "    validation_steps = 50,\n",
        "    epochs = 5, \n",
        "    verbose = 2\n",
        ")\n",
        "\n",
        "endTime = time.time()\n",
        "\n",
        "waktu = (endTime - startTime)/60\n",
        "print(waktu)"
      ],
      "execution_count": 0,
      "outputs": []
    },
    {
      "cell_type": "markdown",
      "metadata": {
        "id": "zuUm0wj-GjvN",
        "colab_type": "text"
      },
      "source": [
        "### Predict Model Testing"
      ]
    },
    {
      "cell_type": "code",
      "metadata": {
        "id": "NdQ-ftOOGjDk",
        "colab_type": "code",
        "colab": {}
      },
      "source": [
        "uploaded = files.upload()\n",
        "\n",
        "for fn in uploaded.keys():\n",
        "  path = fn\n",
        "  img = image.load_img(path, target_size=(150,150))\n",
        "  imgplot = plt.imshow(img)\n",
        "  x = image.img_to_array(img)\n",
        "  x = np.expand_dims(x, axis=0)\n",
        "\n",
        "  img_class = model.predict_classes(x)\n",
        "  img_predict = img_class[0]\n",
        "  pred = []\n",
        "  pred.append(img_predict)\n",
        " \n",
        "  images = np.vstack([x])\n",
        "  classes = model.predict(images, batch_size = 10)\n",
        "\n",
        "  print(fn)\n",
        "  print(pred)\n",
        "  print(classes)"
      ],
      "execution_count": 0,
      "outputs": []
    }
  ]
}